{
  "nbformat": 4,
  "nbformat_minor": 0,
  "metadata": {
    "colab": {
      "name": "Implementation of LeNet-5.ipynb",
      "provenance": [],
      "collapsed_sections": [],
      "authorship_tag": "ABX9TyM5KBTrcRdt+ckDL9qQKfea",
      "include_colab_link": true
    },
    "kernelspec": {
      "name": "python3",
      "display_name": "Python 3"
    },
    "accelerator": "GPU"
  },
  "cells": [
    {
      "cell_type": "markdown",
      "metadata": {
        "id": "view-in-github",
        "colab_type": "text"
      },
      "source": [
        "<a href=\"https://colab.research.google.com/github/anirbrhm/lenet5-mnist/blob/main/Implementation_of_LeNet_5.ipynb\" target=\"_parent\"><img src=\"https://colab.research.google.com/assets/colab-badge.svg\" alt=\"Open In Colab\"/></a>"
      ]
    },
    {
      "cell_type": "markdown",
      "metadata": {
        "id": "U_JWVwDnkxEt"
      },
      "source": [
        "# Digit Recognition using LeNet-5 "
      ]
    },
    {
      "cell_type": "code",
      "metadata": {
        "id": "Eo2QYM_wdXOH"
      },
      "source": [
        "import torch \r\n",
        "import matplotlib.pyplot as plt \r\n",
        "import numpy as np "
      ],
      "execution_count": 16,
      "outputs": []
    },
    {
      "cell_type": "code",
      "metadata": {
        "id": "INAc4aWKhKoD"
      },
      "source": [
        "import torchvision\r\n",
        "import torchvision.transforms as transforms"
      ],
      "execution_count": 17,
      "outputs": []
    },
    {
      "cell_type": "markdown",
      "metadata": {
        "id": "I2--JnZMkqUo"
      },
      "source": [
        "## Data Loading "
      ]
    },
    {
      "cell_type": "code",
      "metadata": {
        "id": "3epg3i7Mjgs5"
      },
      "source": [
        "# adding this as downloading the dataset directly shows 403 error \r\n",
        "from six.moves import urllib    \r\n",
        "opener = urllib.request.build_opener()\r\n",
        "opener.addheaders = [('User-agent', 'Mozilla/5.0')]\r\n",
        "urllib.request.install_opener(opener)"
      ],
      "execution_count": 18,
      "outputs": []
    },
    {
      "cell_type": "code",
      "metadata": {
        "id": "lqMBXV2IixzT"
      },
      "source": [
        "trainset = torchvision.datasets.MNIST(root = \"./data\", train = True, download = True,transform=transforms.ToTensor())"
      ],
      "execution_count": null,
      "outputs": []
    },
    {
      "cell_type": "code",
      "metadata": {
        "id": "tsFFbUPPi4Il"
      },
      "source": [
        "classes = (\"0\",\"1\",\"2\",\"3\",\"4\",\"5\",\"6\",\"7\",\"8\",\"9\") "
      ],
      "execution_count": 20,
      "outputs": []
    },
    {
      "cell_type": "code",
      "metadata": {
        "id": "X9VBcqu-lDHD"
      },
      "source": [
        "trainloader = torch.utils.data.DataLoader(trainset, batch_size=4, shuffle=True) # gives me 4 images everytime, shuffle means randomly. "
      ],
      "execution_count": 21,
      "outputs": []
    },
    {
      "cell_type": "code",
      "metadata": {
        "colab": {
          "base_uri": "https://localhost:8080/"
        },
        "id": "vsSGi8SklHiG",
        "outputId": "6fc8cdd3-520b-47dc-bb99-7dcb3b0fe1b2"
      },
      "source": [
        "dataiter = iter(trainloader) # create an iterator \r\n",
        "images, labels = dataiter.next() # gives me one instance of trainloader (4 images) \r\n",
        "\r\n",
        "print(images.shape) \r\n",
        "\r\n",
        "print(images[1].shape)\r\n",
        "print(labels[1].item())"
      ],
      "execution_count": 22,
      "outputs": [
        {
          "output_type": "stream",
          "text": [
            "torch.Size([4, 1, 28, 28])\n",
            "torch.Size([1, 28, 28])\n",
            "4\n"
          ],
          "name": "stdout"
        }
      ]
    },
    {
      "cell_type": "markdown",
      "metadata": {
        "id": "LFkVhq5WlYv0"
      },
      "source": [
        "The images are 1x28x28 shaped images."
      ]
    },
    {
      "cell_type": "markdown",
      "metadata": {
        "id": "IJlYz3dnlh3r"
      },
      "source": [
        "## Visualize Data"
      ]
    },
    {
      "cell_type": "code",
      "metadata": {
        "colab": {
          "base_uri": "https://localhost:8080/"
        },
        "id": "d6BS-G4zlxzl",
        "outputId": "fa889060-5ed5-4544-8501-86da01e3bfac"
      },
      "source": [
        "img = images[1]\r\n",
        "print(type(img))"
      ],
      "execution_count": 23,
      "outputs": [
        {
          "output_type": "stream",
          "text": [
            "<class 'torch.Tensor'>\n"
          ],
          "name": "stdout"
        }
      ]
    },
    {
      "cell_type": "code",
      "metadata": {
        "colab": {
          "base_uri": "https://localhost:8080/"
        },
        "id": "01e0H0-Hlqd3",
        "outputId": "080c86c8-065b-48ee-c25e-b9fd44d1c80b"
      },
      "source": [
        "npimg = img.numpy()\r\n",
        "print(npimg.shape) # in the shape of (z,x,y) , but to plot it we need (x,y,z) "
      ],
      "execution_count": 24,
      "outputs": [
        {
          "output_type": "stream",
          "text": [
            "(1, 28, 28)\n"
          ],
          "name": "stdout"
        }
      ]
    },
    {
      "cell_type": "code",
      "metadata": {
        "colab": {
          "base_uri": "https://localhost:8080/"
        },
        "id": "MLu3aOixl0Cv",
        "outputId": "989da440-85d9-4611-edc6-aeb543089068"
      },
      "source": [
        "npimg = np.transpose(npimg, (1,2,0)).reshape(28,28) # for higher dimension matrices , transpose is any permutation. \r\n",
        "print(npimg.shape)"
      ],
      "execution_count": 25,
      "outputs": [
        {
          "output_type": "stream",
          "text": [
            "(28, 28)\n"
          ],
          "name": "stdout"
        }
      ]
    },
    {
      "cell_type": "code",
      "metadata": {
        "colab": {
          "base_uri": "https://localhost:8080/",
          "height": 159
        },
        "id": "GZWcJtSGl2lZ",
        "outputId": "1054eabf-a315-4a15-c6fa-8fe018b2f942"
      },
      "source": [
        "plt.figure(figsize=(2,2))\r\n",
        "plt.imshow(npimg) # image plotting on matplotlib\r\n",
        "plt.show()"
      ],
      "execution_count": 26,
      "outputs": [
        {
          "output_type": "display_data",
          "data": {
            "image/png": "[encoded data removed]",
            "text/plain": [
              "<Figure size 144x144 with 1 Axes>"
            ]
          },
          "metadata": {
            "tags": [],
            "needs_background": "light"
          }
        }
      ]
    },
    {
      "cell_type": "markdown",
      "metadata": {
        "id": "9Cf2p1P_ngPk"
      },
      "source": [
        "We can automate this process by programming a function to do this for us"
      ]
    },
    {
      "cell_type": "code",
      "metadata": {
        "id": "dI19xShjl5rY"
      },
      "source": [
        "def imshow(img):\r\n",
        "  npimg = img.numpy()\r\n",
        "  plt.figure(figsize=(2,2))\r\n",
        "  plt.imshow(np.transpose(npimg,(1,2,0)).reshape(28,28)) \r\n",
        "  plt.show()"
      ],
      "execution_count": 27,
      "outputs": []
    },
    {
      "cell_type": "code",
      "metadata": {
        "colab": {
          "base_uri": "https://localhost:8080/",
          "height": 285
        },
        "id": "J0Wf9J90nwXX",
        "outputId": "94f482bc-a486-433a-929b-0e7577024e4e"
      },
      "source": [
        "f, axarr = plt.subplots(2,2)\r\n",
        "axarr[0,0].imshow(images[0].reshape(28,28))\r\n",
        "axarr[0,1].imshow(images[1].reshape(28,28))\r\n",
        "axarr[1,0].imshow(images[2].reshape(28,28))\r\n",
        "axarr[1,1].imshow(images[3].reshape(28,28))"
      ],
      "execution_count": 28,
      "outputs": [
        {
          "output_type": "execute_result",
          "data": {
            "text/plain": [
              "<matplotlib.image.AxesImage at 0x7f60e3548bd0>"
            ]
          },
          "metadata": {
            "tags": []
          },
          "execution_count": 28
        },
        {
          "output_type": "display_data",
          "data": {
            "image/png": "[encoded data removed]",
            "text/plain": [
              "<Figure size 432x288 with 4 Axes>"
            ]
          },
          "metadata": {
            "tags": [],
            "needs_background": "light"
          }
        }
      ]
    },
    {
      "cell_type": "markdown",
      "metadata": {
        "id": "1tDGzJhbpzPv"
      },
      "source": [
        "## LeNet Architecture"
      ]
    },
    {
      "cell_type": "code",
      "metadata": {
        "id": "prqxAhE8p-dE"
      },
      "source": [
        "import torch.nn as nn "
      ],
      "execution_count": 29,
      "outputs": []
    },
    {
      "cell_type": "code",
      "metadata": {
        "id": "dze4RkyPp1p3"
      },
      "source": [
        "class LeNet(nn.Module) : \r\n",
        "  def __init__(self):\r\n",
        "    super(LeNet,self).__init__()\r\n",
        "    self.cnn_model = nn.Sequential(\r\n",
        "        nn.Conv2d(1,6,5), # (N,1,28,28) -> (N,6,24,24) \r\n",
        "        nn.Tanh(), # (N,6,24,24) -> (N,6,24,24) \r\n",
        "        nn.AvgPool2d(2,stride = 2), # (N,6,24,24) -> (N,6,12,12)\r\n",
        "        nn.Conv2d(6,16,5), # (N,6,12,12) -> (N,16,8,8) \r\n",
        "        nn.Tanh(), # (N,16,8,8) -> (N,16,8,8) \r\n",
        "        nn.AvgPool2d(2, stride = 2), # (N,16,8,8) -> (N,16,4,4) \r\n",
        "    ) \r\n",
        "    # we flatten the tensor here to be a 256 dimensional vector \r\n",
        "\r\n",
        "    self.fc_model = nn.Sequential( \r\n",
        "        nn.Linear(256,120), # (N, 256) -> (N, 120) \r\n",
        "        nn.Tanh(), \r\n",
        "        nn.Linear(120,84), # (N, 120) -> (N, 84)\r\n",
        "        nn.Tanh(), \r\n",
        "        nn.Linear(84,10), # (N, 84) -> (N, 10) \r\n",
        "        nn.Softmax(1) # along the right dimension\r\n",
        "        )\r\n",
        "\r\n",
        "  def forward(self,x):\r\n",
        "    # print(x.shape) \r\n",
        "    x = self.cnn_model(x) \r\n",
        "    # print(x.shape) \r\n",
        "    x = x.view(x.size(0),-1)\r\n",
        "    # print(x.shape) \r\n",
        "    x = self.fc_model(x) \r\n",
        "    # print(x.shape)\r\n",
        "    return x "
      ],
      "execution_count": 30,
      "outputs": []
    },
    {
      "cell_type": "markdown",
      "metadata": {
        "id": "mpPsrH2Zqgr8"
      },
      "source": [
        "Loading the whole MNIST Data Set"
      ]
    },
    {
      "cell_type": "code",
      "metadata": {
        "id": "K_wKKM2qoUjE"
      },
      "source": [
        "batch_size = 128 \r\n",
        "trainset = torchvision.datasets.MNIST(root = \"./data\", train = True, download = True,transform=transforms.ToTensor())\r\n",
        "trainloader = torch.utils.data.DataLoader(trainset, batch_size=batch_size, shuffle=True)\r\n",
        "testset = torchvision.datasets.MNIST(root = \"./data\", train = False, download = True,transform=transforms.ToTensor())\r\n",
        "testloader = torch.utils.data.DataLoader(testset, batch_size=batch_size, shuffle=False) # no need for shuffling  "
      ],
      "execution_count": 31,
      "outputs": []
    },
    {
      "cell_type": "markdown",
      "metadata": {
        "id": "5qc5k4YLx_fF"
      },
      "source": [
        "## Move to GPU"
      ]
    },
    {
      "cell_type": "code",
      "metadata": {
        "colab": {
          "base_uri": "https://localhost:8080/"
        },
        "id": "MstBoG_7yB0J",
        "outputId": "32ca6e9a-9e40-4c60-bae7-fe1abdd7c036"
      },
      "source": [
        "device = torch.device(\"cuda:0\" if torch.cuda.is_available() else \"cpu\") \r\n",
        "print(device)"
      ],
      "execution_count": 32,
      "outputs": [
        {
          "output_type": "stream",
          "text": [
            "cuda:0\n"
          ],
          "name": "stdout"
        }
      ]
    },
    {
      "cell_type": "code",
      "metadata": {
        "id": "B2GxV2xXyCXx"
      },
      "source": [
        "def evaluation(dataloader):\r\n",
        "  total , correct = 0 , 0 \r\n",
        "  for data in dataloader:\r\n",
        "    inputs, labels = data \r\n",
        "    inputs, labels = inputs.to(device), labels.to(device) \r\n",
        "    outputs = net(inputs) \r\n",
        "    _, pred = torch.max(outputs.data, 1) \r\n",
        "    total += labels.size(0) \r\n",
        "    correct += (pred == labels).sum().item()\r\n",
        "  return 100 * correct / total "
      ],
      "execution_count": 33,
      "outputs": []
    },
    {
      "cell_type": "code",
      "metadata": {
        "id": "viVrM8YFyEWZ"
      },
      "source": [
        "import torch.optim as optim \r\n",
        "\r\n",
        "net = LeNet().to(device)\r\n",
        "loss_fn = nn.CrossEntropyLoss() \r\n",
        "opt = optim.Adam(net.parameters())"
      ],
      "execution_count": 34,
      "outputs": []
    },
    {
      "cell_type": "code",
      "metadata": {
        "colab": {
          "base_uri": "https://localhost:8080/"
        },
        "id": "cqLr02cfyHZp",
        "outputId": "bdbac8bc-17cb-4923-d029-1b64dbf7a72b"
      },
      "source": [
        "%time \r\n",
        "\r\n",
        "max_epochs = 16 \r\n",
        "\r\n",
        "for epoch in range(max_epochs):\r\n",
        "  for i, data in enumerate(trainloader, 0):\r\n",
        "    inputs, labels = data \r\n",
        "    inputs, labels = inputs.to(device), labels.to(device)\r\n",
        "    \r\n",
        "    opt.zero_grad()\r\n",
        "\r\n",
        "    outputs = net(inputs)\r\n",
        "    loss = loss_fn(outputs, labels)\r\n",
        "    loss.backward()\r\n",
        "    opt.step()\r\n",
        "\r\n",
        "  print(\"Epoch : %d/%d\" %(epoch,max_epochs))"
      ],
      "execution_count": 35,
      "outputs": [
        {
          "output_type": "stream",
          "text": [
            "CPU times: user 2 µs, sys: 0 ns, total: 2 µs\n",
            "Wall time: 4.53 µs\n",
            "Epoch : 0/16\n",
            "Epoch : 1/16\n",
            "Epoch : 2/16\n",
            "Epoch : 3/16\n",
            "Epoch : 4/16\n",
            "Epoch : 5/16\n",
            "Epoch : 6/16\n",
            "Epoch : 7/16\n",
            "Epoch : 8/16\n",
            "Epoch : 9/16\n",
            "Epoch : 10/16\n",
            "Epoch : 11/16\n",
            "Epoch : 12/16\n",
            "Epoch : 13/16\n",
            "Epoch : 14/16\n",
            "Epoch : 15/16\n"
          ],
          "name": "stdout"
        }
      ]
    },
    {
      "cell_type": "code",
      "metadata": {
        "colab": {
          "base_uri": "https://localhost:8080/"
        },
        "id": "Khanxv76yJF5",
        "outputId": "0784345c-e79b-4a74-f45c-1e3a43bd06c2"
      },
      "source": [
        "print(\"Test acc : %0.2f, Train acc : %0.2f\" %(evaluation(testloader),evaluation(trainloader)))"
      ],
      "execution_count": 36,
      "outputs": [
        {
          "output_type": "stream",
          "text": [
            "Test acc : 98.64, Train acc : 99.36\n"
          ],
          "name": "stdout"
        }
      ]
    }
  ]
}